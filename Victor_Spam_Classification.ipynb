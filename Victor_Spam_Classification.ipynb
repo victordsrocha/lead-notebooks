{
  "nbformat": 4,
  "nbformat_minor": 0,
  "metadata": {
    "colab": {
      "name": "Victor - Spam Classification.ipynb",
      "provenance": [],
      "collapsed_sections": []
    },
    "kernelspec": {
      "name": "python3",
      "display_name": "Python 3"
    },
    "language_info": {
      "name": "python"
    }
  },
  "cells": [
    {
      "cell_type": "code",
      "execution_count": 1,
      "metadata": {
        "colab": {
          "base_uri": "https://localhost:8080/"
        },
        "id": "N_hin-x0XMOM",
        "outputId": "eb6aaed7-3b34-4e29-ad28-bcc69995bc2d"
      },
      "outputs": [
        {
          "output_type": "stream",
          "name": "stdout",
          "text": [
            "Drive already mounted at /content/drive; to attempt to forcibly remount, call drive.mount(\"/content/drive\", force_remount=True).\n"
          ]
        }
      ],
      "source": [
        "from google.colab import drive\n",
        "drive.mount('/content/drive')"
      ]
    },
    {
      "cell_type": "code",
      "source": [
        "import os\n",
        "import string\n",
        "import numpy as np\n",
        "import pandas as pd\n",
        "import matplotlib.pyplot as plt\n",
        "import seaborn as sns\n",
        "\n",
        "from collections import Counter\n",
        "from imblearn.under_sampling import RandomUnderSampler\n",
        "\n",
        "from sklearn.metrics import accuracy_score, precision_score, recall_score, f1_score, confusion_matrix\n",
        "from sklearn.model_selection import train_test_split\n",
        "from sklearn.linear_model import LogisticRegression"
      ],
      "metadata": {
        "id": "_7P68X5PY4Ji"
      },
      "execution_count": 2,
      "outputs": []
    },
    {
      "cell_type": "code",
      "source": [
        "np.random.seed(42) # definindo uma seed global "
      ],
      "metadata": {
        "id": "KZOnIswrVtMu"
      },
      "execution_count": 3,
      "outputs": []
    },
    {
      "cell_type": "code",
      "source": [
        "path = \"/content/drive/MyDrive/datasets/spam/\""
      ],
      "metadata": {
        "id": "rHDVJD7yYoy7"
      },
      "execution_count": 4,
      "outputs": []
    },
    {
      "cell_type": "code",
      "source": [
        "df = pd.read_csv(os.path.join(path, 'spam.csv'), encoding=\"ISO-8859-1\")"
      ],
      "metadata": {
        "id": "BL6pD3roZF5A"
      },
      "execution_count": 5,
      "outputs": []
    },
    {
      "cell_type": "code",
      "source": [
        "df.drop(['Unnamed: 2','Unnamed: 3','Unnamed: 4'],axis=1,inplace=True)"
      ],
      "metadata": {
        "id": "nCY-XY5Jaa34"
      },
      "execution_count": 6,
      "outputs": []
    },
    {
      "cell_type": "code",
      "source": [
        "df.rename(columns={\"v1\": \"target\", \"v2\": \"sms\"}, inplace=True)"
      ],
      "metadata": {
        "id": "cTHzfS0fadz-"
      },
      "execution_count": 7,
      "outputs": []
    },
    {
      "cell_type": "code",
      "source": [
        "sample = 5\n",
        "df['sms'][sample], df['target'][sample]"
      ],
      "metadata": {
        "colab": {
          "base_uri": "https://localhost:8080/"
        },
        "id": "JkRNJ3lUZNlK",
        "outputId": "3844e6aa-7fd4-43cc-9261-7d122deb5ec4"
      },
      "execution_count": 8,
      "outputs": [
        {
          "output_type": "execute_result",
          "data": {
            "text/plain": [
              "(\"FreeMsg Hey there darling it's been 3 week's now and no word back! I'd like some fun you up for it still? Tb ok! XxX std chgs to send, å£1.50 to rcv\",\n",
              " 'spam')"
            ]
          },
          "metadata": {},
          "execution_count": 8
        }
      ]
    },
    {
      "cell_type": "code",
      "source": [
        "t = df['sms'][sample]"
      ],
      "metadata": {
        "id": "A23gRidYZTtR"
      },
      "execution_count": 9,
      "outputs": []
    },
    {
      "cell_type": "code",
      "source": [
        "def normalize(text):\n",
        "    preprocessed = text.lower()\n",
        "    preprocessed = preprocessed.translate(\n",
        "        str.maketrans('', '', string.punctuation)\n",
        "    )\n",
        "\n",
        "    return preprocessed"
      ],
      "metadata": {
        "id": "a-zZV3DycogH"
      },
      "execution_count": 10,
      "outputs": []
    },
    {
      "cell_type": "code",
      "source": [
        "def tokenize(text):\n",
        "    return text.split(' ')"
      ],
      "metadata": {
        "id": "aqL4L7elbbnQ"
      },
      "execution_count": 11,
      "outputs": []
    },
    {
      "cell_type": "code",
      "source": [
        "t"
      ],
      "metadata": {
        "colab": {
          "base_uri": "https://localhost:8080/",
          "height": 53
        },
        "id": "YepbG_K_doj8",
        "outputId": "4fc65db8-9b92-4855-a85b-b86ec3f8aa87"
      },
      "execution_count": 12,
      "outputs": [
        {
          "output_type": "execute_result",
          "data": {
            "application/vnd.google.colaboratory.intrinsic+json": {
              "type": "string"
            },
            "text/plain": [
              "\"FreeMsg Hey there darling it's been 3 week's now and no word back! I'd like some fun you up for it still? Tb ok! XxX std chgs to send, å£1.50 to rcv\""
            ]
          },
          "metadata": {},
          "execution_count": 12
        }
      ]
    },
    {
      "cell_type": "code",
      "source": [
        "normalize(t)"
      ],
      "metadata": {
        "colab": {
          "base_uri": "https://localhost:8080/",
          "height": 53
        },
        "id": "ULaob3vrb4jM",
        "outputId": "66e5d674-ff72-4c35-e35e-501fd39cacfb"
      },
      "execution_count": 13,
      "outputs": [
        {
          "output_type": "execute_result",
          "data": {
            "application/vnd.google.colaboratory.intrinsic+json": {
              "type": "string"
            },
            "text/plain": [
              "'freemsg hey there darling its been 3 weeks now and no word back id like some fun you up for it still tb ok xxx std chgs to send å£150 to rcv'"
            ]
          },
          "metadata": {},
          "execution_count": 13
        }
      ]
    },
    {
      "cell_type": "code",
      "source": [
        "tokenize(normalize(t))"
      ],
      "metadata": {
        "colab": {
          "base_uri": "https://localhost:8080/"
        },
        "id": "UFXnwuyBclvj",
        "outputId": "6e9c3f86-2fc9-4825-c6cb-b69e01e97148"
      },
      "execution_count": 14,
      "outputs": [
        {
          "output_type": "execute_result",
          "data": {
            "text/plain": [
              "['freemsg',\n",
              " 'hey',\n",
              " 'there',\n",
              " 'darling',\n",
              " 'its',\n",
              " 'been',\n",
              " '3',\n",
              " 'weeks',\n",
              " 'now',\n",
              " 'and',\n",
              " 'no',\n",
              " 'word',\n",
              " 'back',\n",
              " 'id',\n",
              " 'like',\n",
              " 'some',\n",
              " 'fun',\n",
              " 'you',\n",
              " 'up',\n",
              " 'for',\n",
              " 'it',\n",
              " 'still',\n",
              " 'tb',\n",
              " 'ok',\n",
              " 'xxx',\n",
              " 'std',\n",
              " 'chgs',\n",
              " 'to',\n",
              " 'send',\n",
              " 'å£150',\n",
              " 'to',\n",
              " 'rcv']"
            ]
          },
          "metadata": {},
          "execution_count": 14
        }
      ]
    },
    {
      "cell_type": "code",
      "source": [
        "messages = df['sms'].apply(normalize).values.astype(str)"
      ],
      "metadata": {
        "id": "OHloVZ-gdFyQ"
      },
      "execution_count": 15,
      "outputs": []
    },
    {
      "cell_type": "code",
      "source": [
        "messages, len(messages)"
      ],
      "metadata": {
        "colab": {
          "base_uri": "https://localhost:8080/"
        },
        "id": "hLxPFhf0d4pa",
        "outputId": "6c9e2557-6c96-42b2-c1dd-f9ea7783dff3"
      },
      "execution_count": 16,
      "outputs": [
        {
          "output_type": "execute_result",
          "data": {
            "text/plain": [
              "(array(['go until jurong point crazy available only in bugis n great world la e buffet cine there got amore wat',\n",
              "        'ok lar joking wif u oni',\n",
              "        'free entry in 2 a wkly comp to win fa cup final tkts 21st may 2005 text fa to 87121 to receive entry questionstd txt ratetcs apply 08452810075over18s',\n",
              "        ..., 'pity  was in mood for that soany other suggestions',\n",
              "        'the guy did some bitching but i acted like id be interested in buying something else next week and he gave it to us for free',\n",
              "        'rofl its true to its name'], dtype='<U888'), 5572)"
            ]
          },
          "metadata": {},
          "execution_count": 16
        }
      ]
    },
    {
      "cell_type": "code",
      "source": [
        "all_tokens = []\n",
        "for message in messages:\n",
        "    # tokenize retorna uma lista de tokens\n",
        "    tokens = tokenize(message)\n",
        "\n",
        "    # OBS: tokens é uma lista\n",
        "    all_tokens.extend(tokens)"
      ],
      "metadata": {
        "id": "yxkPsuI1edeq"
      },
      "execution_count": 17,
      "outputs": []
    },
    {
      "cell_type": "code",
      "source": [
        "len(all_tokens)"
      ],
      "metadata": {
        "colab": {
          "base_uri": "https://localhost:8080/"
        },
        "id": "de4DFB4Qe-wQ",
        "outputId": "7b478715-c985-480d-9e51-f073ba1e0d36"
      },
      "execution_count": 18,
      "outputs": [
        {
          "output_type": "execute_result",
          "data": {
            "text/plain": [
              "86961"
            ]
          },
          "metadata": {},
          "execution_count": 18
        }
      ]
    },
    {
      "cell_type": "code",
      "source": [
        "unique_tokens, counts = np.unique(all_tokens, return_counts=True)"
      ],
      "metadata": {
        "id": "RinW5w4FfTX2"
      },
      "execution_count": 19,
      "outputs": []
    },
    {
      "cell_type": "code",
      "source": [
        "len(unique_tokens)"
      ],
      "metadata": {
        "colab": {
          "base_uri": "https://localhost:8080/"
        },
        "id": "NdqyaHDgfX8n",
        "outputId": "655d48e3-8d56-40da-f519-227ffd8a4a13"
      },
      "execution_count": 20,
      "outputs": [
        {
          "output_type": "execute_result",
          "data": {
            "text/plain": [
              "9565"
            ]
          },
          "metadata": {},
          "execution_count": 20
        }
      ]
    },
    {
      "cell_type": "code",
      "source": [
        "unique_tokens"
      ],
      "metadata": {
        "colab": {
          "base_uri": "https://localhost:8080/"
        },
        "id": "5zfHIkTufZUk",
        "outputId": "4d7172db-ef9d-4109-d617-c23218cda553"
      },
      "execution_count": 21,
      "outputs": [
        {
          "output_type": "execute_result",
          "data": {
            "text/plain": [
              "array(['', '\\rham', '0', ..., 'ì©', 'ìï', 'ìïll'], dtype='<U52')"
            ]
          },
          "metadata": {},
          "execution_count": 21
        }
      ]
    },
    {
      "cell_type": "code",
      "source": [
        "counts"
      ],
      "metadata": {
        "colab": {
          "base_uri": "https://localhost:8080/"
        },
        "id": "d5QHs6TVfakK",
        "outputId": "82cd8b4c-d4a9-41a3-82d1-1e1d31e081fd"
      },
      "execution_count": 22,
      "outputs": [
        {
          "output_type": "execute_result",
          "data": {
            "text/plain": [
              "array([1854,    1,    3, ...,    3,   52,    1])"
            ]
          },
          "metadata": {},
          "execution_count": 22
        }
      ]
    },
    {
      "cell_type": "code",
      "source": [
        "unique_tokens = unique_tokens[counts.argsort()[::-1]]\n",
        "counts = counts[counts.argsort()[::-1]]"
      ],
      "metadata": {
        "id": "kNvUTh2Wfio3"
      },
      "execution_count": 23,
      "outputs": []
    },
    {
      "cell_type": "code",
      "source": [
        "unique_tokens"
      ],
      "metadata": {
        "colab": {
          "base_uri": "https://localhost:8080/"
        },
        "id": "RZVqjNNffxUS",
        "outputId": "5a762a91-a451-443f-d42e-ce4900a88a3c"
      },
      "execution_count": 24,
      "outputs": [
        {
          "output_type": "execute_result",
          "data": {
            "text/plain": [
              "array(['to', 'i', 'you', ..., 'mineall', 'minecraft', 'kill'],\n",
              "      dtype='<U52')"
            ]
          },
          "metadata": {},
          "execution_count": 24
        }
      ]
    },
    {
      "cell_type": "code",
      "source": [
        "counts"
      ],
      "metadata": {
        "colab": {
          "base_uri": "https://localhost:8080/"
        },
        "id": "06T0dR97fyUF",
        "outputId": "b1b6e1ef-931a-4e4c-d4ef-71094176a027"
      },
      "execution_count": 25,
      "outputs": [
        {
          "output_type": "execute_result",
          "data": {
            "text/plain": [
              "array([2240, 2230, 2124, ...,    1,    1,    1])"
            ]
          },
          "metadata": {},
          "execution_count": 25
        }
      ]
    },
    {
      "cell_type": "code",
      "source": [
        "unique_tokens[:10]"
      ],
      "metadata": {
        "colab": {
          "base_uri": "https://localhost:8080/"
        },
        "id": "JKR6P51rfyu5",
        "outputId": "0d1c88ad-ff97-461d-fb96-991335d9443a"
      },
      "execution_count": 26,
      "outputs": [
        {
          "output_type": "execute_result",
          "data": {
            "text/plain": [
              "array(['to', 'i', 'you', '', 'a', 'the', 'u', 'and', 'is', 'in'],\n",
              "      dtype='<U52')"
            ]
          },
          "metadata": {},
          "execution_count": 26
        }
      ]
    },
    {
      "cell_type": "code",
      "source": [
        "vocab = {\n",
        "    w: i for i, w in enumerate(unique_tokens)\n",
        "}"
      ],
      "metadata": {
        "id": "PwtsudFPf6XZ"
      },
      "execution_count": 27,
      "outputs": []
    },
    {
      "cell_type": "code",
      "source": [
        "len(unique_tokens)"
      ],
      "metadata": {
        "colab": {
          "base_uri": "https://localhost:8080/"
        },
        "id": "TAfs_hz_gN7U",
        "outputId": "76625aac-d4bc-49bf-855f-07299a72840e"
      },
      "execution_count": 28,
      "outputs": [
        {
          "output_type": "execute_result",
          "data": {
            "text/plain": [
              "9565"
            ]
          },
          "metadata": {},
          "execution_count": 28
        }
      ]
    },
    {
      "cell_type": "code",
      "source": [
        "m = messages[0]"
      ],
      "metadata": {
        "id": "RzPv-me9gOao"
      },
      "execution_count": 29,
      "outputs": []
    },
    {
      "cell_type": "code",
      "source": [
        "u, c = np.unique(tokenize(m), return_counts=True)"
      ],
      "metadata": {
        "id": "B8jWgw4vgbkz"
      },
      "execution_count": 30,
      "outputs": []
    },
    {
      "cell_type": "code",
      "source": [
        "u"
      ],
      "metadata": {
        "colab": {
          "base_uri": "https://localhost:8080/"
        },
        "id": "QjVB5bu9ghmc",
        "outputId": "63f67fea-2b0c-4ed6-882d-4caefb856175"
      },
      "execution_count": 31,
      "outputs": [
        {
          "output_type": "execute_result",
          "data": {
            "text/plain": [
              "array(['amore', 'available', 'buffet', 'bugis', 'cine', 'crazy', 'e',\n",
              "       'go', 'got', 'great', 'in', 'jurong', 'la', 'n', 'only', 'point',\n",
              "       'there', 'until', 'wat', 'world'], dtype='<U9')"
            ]
          },
          "metadata": {},
          "execution_count": 31
        }
      ]
    },
    {
      "cell_type": "code",
      "source": [
        "c = c / sum(c)"
      ],
      "metadata": {
        "id": "eTtKj0ifgiAx"
      },
      "execution_count": 32,
      "outputs": []
    },
    {
      "cell_type": "code",
      "source": [
        "c"
      ],
      "metadata": {
        "colab": {
          "base_uri": "https://localhost:8080/"
        },
        "id": "JALryhEFhif9",
        "outputId": "fe8c3484-0993-499a-cecb-2d75b42b5171"
      },
      "execution_count": 33,
      "outputs": [
        {
          "output_type": "execute_result",
          "data": {
            "text/plain": [
              "array([0.05, 0.05, 0.05, 0.05, 0.05, 0.05, 0.05, 0.05, 0.05, 0.05, 0.05,\n",
              "       0.05, 0.05, 0.05, 0.05, 0.05, 0.05, 0.05, 0.05, 0.05])"
            ]
          },
          "metadata": {},
          "execution_count": 33
        }
      ]
    },
    {
      "cell_type": "code",
      "source": [
        "vec = np.zeros([len(unique_tokens)])\n",
        "\n",
        "for ui, ci in zip(u, c):\n",
        "    index = vocab[ui]\n",
        "    vec[index] = ci"
      ],
      "metadata": {
        "id": "8i8prRysgk8g"
      },
      "execution_count": 34,
      "outputs": []
    },
    {
      "cell_type": "code",
      "source": [
        "plt.plot(vec)"
      ],
      "metadata": {
        "colab": {
          "base_uri": "https://localhost:8080/",
          "height": 282
        },
        "id": "OH-XUBpZgu2o",
        "outputId": "c4bd8793-66d5-474e-b1b1-bfd3b4c6897e"
      },
      "execution_count": 35,
      "outputs": [
        {
          "output_type": "execute_result",
          "data": {
            "text/plain": [
              "[<matplotlib.lines.Line2D at 0x7f37d88eed50>]"
            ]
          },
          "metadata": {},
          "execution_count": 35
        },
        {
          "output_type": "display_data",
          "data": {
            "image/png": "[encoded data removed]",
            "text/plain": [
              "<Figure size 432x288 with 1 Axes>"
            ]
          },
          "metadata": {
            "needs_background": "light"
          }
        }
      ]
    },
    {
      "cell_type": "code",
      "source": [
        "def vectorize(tokens, vocab):\n",
        "    vec = np.zeros([len(vocab)])\n",
        "    u, c = np.unique(tokens, return_counts=True)\n",
        "    c = c / sum(c)\n",
        "\n",
        "    for ui, ci in zip(u, c):\n",
        "        index = vocab[ui]\n",
        "        vec[index] = ci\n",
        "\n",
        "    return vec"
      ],
      "metadata": {
        "id": "V7qJPewsgvPM"
      },
      "execution_count": 36,
      "outputs": []
    },
    {
      "cell_type": "code",
      "source": [
        "plt.plot(vectorize(tokenize(messages[3]), vocab))"
      ],
      "metadata": {
        "colab": {
          "base_uri": "https://localhost:8080/",
          "height": 282
        },
        "id": "LKFM0cOlh3lT",
        "outputId": "e68da290-91e8-4a09-9831-c470b94126d8"
      },
      "execution_count": 37,
      "outputs": [
        {
          "output_type": "execute_result",
          "data": {
            "text/plain": [
              "[<matplotlib.lines.Line2D at 0x7f37d83d18d0>]"
            ]
          },
          "metadata": {},
          "execution_count": 37
        },
        {
          "output_type": "display_data",
          "data": {
            "image/png": "[encoded data removed]",
            "text/plain": [
              "<Figure size 432x288 with 1 Axes>"
            ]
          },
          "metadata": {
            "needs_background": "light"
          }
        }
      ]
    },
    {
      "cell_type": "markdown",
      "source": [
        "## Criando um dataset para classificação"
      ],
      "metadata": {
        "id": "lAsalyn6ie6k"
      }
    },
    {
      "cell_type": "code",
      "source": [
        "df['target'].values"
      ],
      "metadata": {
        "colab": {
          "base_uri": "https://localhost:8080/"
        },
        "id": "4cw4oPXViSDQ",
        "outputId": "bff3514c-9397-4ddf-957a-6a1a17c63b81"
      },
      "execution_count": 38,
      "outputs": [
        {
          "output_type": "execute_result",
          "data": {
            "text/plain": [
              "array(['ham', 'ham', 'spam', ..., 'ham', 'ham', 'ham'], dtype=object)"
            ]
          },
          "metadata": {},
          "execution_count": 38
        }
      ]
    },
    {
      "cell_type": "code",
      "source": [
        "y = np.array([0 if t == 'ham' else 1 for t in df['target'].values])"
      ],
      "metadata": {
        "id": "UU63kKaoh5n7"
      },
      "execution_count": 39,
      "outputs": []
    },
    {
      "cell_type": "code",
      "source": [
        "y"
      ],
      "metadata": {
        "colab": {
          "base_uri": "https://localhost:8080/"
        },
        "id": "vIJOAHr0iHWa",
        "outputId": "f3a0dc0a-b607-4557-b1ae-45abf7317a02"
      },
      "execution_count": 40,
      "outputs": [
        {
          "output_type": "execute_result",
          "data": {
            "text/plain": [
              "array([0, 0, 1, ..., 0, 0, 0])"
            ]
          },
          "metadata": {},
          "execution_count": 40
        }
      ]
    },
    {
      "cell_type": "code",
      "source": [
        "messages = df['sms'].apply(normalize).values.astype(str)"
      ],
      "metadata": {
        "id": "BFPDOM6kiaZ5"
      },
      "execution_count": 41,
      "outputs": []
    },
    {
      "cell_type": "code",
      "source": [
        "X = []\n",
        "for message in messages:\n",
        "    tokens = tokenize(message)\n",
        "    x = vectorize(tokens, vocab)\n",
        "    X.append(x)\n",
        "X = np.array(X)"
      ],
      "metadata": {
        "id": "JB9rxCT6ilR1"
      },
      "execution_count": 42,
      "outputs": []
    },
    {
      "cell_type": "code",
      "source": [
        "plt.spy(X, cmap='binary')"
      ],
      "metadata": {
        "colab": {
          "base_uri": "https://localhost:8080/",
          "height": 263
        },
        "id": "xwSwMDJxiufd",
        "outputId": "f3f5b95a-ba6f-4c6f-f343-fd9bfe1c21f6"
      },
      "execution_count": 43,
      "outputs": [
        {
          "output_type": "execute_result",
          "data": {
            "text/plain": [
              "<matplotlib.image.AxesImage at 0x7f37d83a5cd0>"
            ]
          },
          "metadata": {},
          "execution_count": 43
        },
        {
          "output_type": "display_data",
          "data": {
            "image/png": "[encoded data removed]",
            "text/plain": [
              "<Figure size 432x288 with 1 Axes>"
            ]
          },
          "metadata": {
            "needs_background": "light"
          }
        }
      ]
    },
    {
      "cell_type": "markdown",
      "source": [
        "## Tarefa de Casa\n",
        "\n",
        "* 1. Fazer uma análise exploratória no conjunto de dados.\n",
        "  * 1.1. Enumerar as 20 tokens mais frequentes em um barplot.\n",
        "  * 1.2. Analisar a distribuição das amostras por classe. Quantas mensagens são spam? Quantas mensagens são verdadeiras? As classes são balanceadas? => pesquisar, se for o caso, quais os impactos de classes não balanceadas\n",
        "* 2. Criar um classificador de mensagens spam. Usar a matriz de dados $X$ e o vetor de labels $y$.\n",
        "  * OBS: Não precisa implementar os classificadores do zero, podem usar os classificadores do scikit-learn. Recomendações: Logistic Regression, e SVM (kernel linear ou RBF), MLPs se quiserem.\n",
        "  * 2.1. Fazer a divisão treino-teste usando scikit-learn."
      ],
      "metadata": {
        "id": "RtLGioCQjaCQ"
      }
    },
    {
      "cell_type": "markdown",
      "source": [
        "# Análise exploratória"
      ],
      "metadata": {
        "id": "b8C1vSqz48y3"
      }
    },
    {
      "cell_type": "markdown",
      "source": [
        "## Tokens mais frequentes"
      ],
      "metadata": {
        "id": "ki4R6Sfi5Den"
      }
    },
    {
      "cell_type": "code",
      "source": [
        "def map_occurrences(string_list):\n",
        "  string_count = {}\n",
        "  for item in string_list:\n",
        "      if item not in string_count:\n",
        "          count = string_list.count(item)\n",
        "          string_count[item] = count\n",
        "  return string_count"
      ],
      "metadata": {
        "id": "5uS1mnL35y5a"
      },
      "execution_count": 44,
      "outputs": []
    },
    {
      "cell_type": "code",
      "source": [
        "tokens_occurrences = map_occurrences(all_tokens)\n",
        "sorted_tokens_occurrences = {k: v for k, v in sorted(tokens_occurrences.items(), key=lambda item: item[1], reverse=True)}"
      ],
      "metadata": {
        "id": "kOkNdi1X7YC0"
      },
      "execution_count": 45,
      "outputs": []
    },
    {
      "cell_type": "code",
      "source": [
        "fig_dims = (15, 5)\n",
        "fig, ax = plt.subplots(figsize=fig_dims)\n",
        "sns.barplot(x=list(sorted_tokens_occurrences.keys())[:20], y=list(sorted_tokens_occurrences.values())[:20], ax=ax, data=df);"
      ],
      "metadata": {
        "colab": {
          "base_uri": "https://localhost:8080/",
          "height": 320
        },
        "id": "_XnDFcBuUWyL",
        "outputId": "fed606e6-a39a-484e-c5af-0abb9c76692b"
      },
      "execution_count": 46,
      "outputs": [
        {
          "output_type": "display_data",
          "data": {
            "image/png": "[encoded data removed]",
            "text/plain": [
              "<Figure size 1080x360 with 1 Axes>"
            ]
          },
          "metadata": {
            "needs_background": "light"
          }
        }
      ]
    },
    {
      "cell_type": "code",
      "source": [
        "df['target'].value_counts()"
      ],
      "metadata": {
        "colab": {
          "base_uri": "https://localhost:8080/"
        },
        "id": "pSKI1LldBGcw",
        "outputId": "b21ed99e-6e51-419a-8982-8687bd041c9c"
      },
      "execution_count": 47,
      "outputs": [
        {
          "output_type": "execute_result",
          "data": {
            "text/plain": [
              "ham     4825\n",
              "spam     747\n",
              "Name: target, dtype: int64"
            ]
          },
          "metadata": {},
          "execution_count": 47
        }
      ]
    },
    {
      "cell_type": "markdown",
      "source": [
        "# Classificador"
      ],
      "metadata": {
        "id": "j-FRWk_MGma7"
      }
    },
    {
      "cell_type": "code",
      "source": [
        "def show_metrics(yts, y_pred):\n",
        "  print('-----Métricas-----')\n",
        "  print('Acurácia: %.2f' % accuracy_score(yts, y_pred))\n",
        "  print('Precisão: %.2f' % precision_score(yts, y_pred))\n",
        "  print('Recall: %.2f' % recall_score(yts, y_pred))\n",
        "  print('F-score: %.2f' % f1_score(yts, y_pred))\n",
        "\n",
        "  cmat = confusion_matrix(yts, y_pred)\n",
        "  ax = sns.heatmap(cmat.astype(int), annot=True, fmt='g')\n",
        "  _ = ax.set_xticklabels(['ham', 'spam'])\n",
        "  _ = ax.set_yticklabels(['ham', 'spam'], rotation=90)\n",
        "\n",
        "  ax.set_ylabel('Classe Real')\n",
        "  ax.set_xlabel('Classe Predita')\n",
        "\n",
        "  print('------------------')\n",
        "  print('Matriz de confusão:')"
      ],
      "metadata": {
        "id": "muVcpepqXJxG"
      },
      "execution_count": 48,
      "outputs": []
    },
    {
      "cell_type": "code",
      "source": [
        "Xtr, Xts, ytr, yts = train_test_split(X, y, test_size=0.2, stratify=y)"
      ],
      "metadata": {
        "id": "OXh1uOZ-Gnlf"
      },
      "execution_count": 49,
      "outputs": []
    },
    {
      "cell_type": "markdown",
      "source": [
        "## Regressão Logística"
      ],
      "metadata": {
        "id": "qpxNIjqlVjTW"
      }
    },
    {
      "cell_type": "code",
      "source": [
        "# Modelo de Classificação\n",
        "\n",
        "# criando o modelo\n",
        "model = LogisticRegression()\n",
        "\n",
        "# treinando o modelo com o conjunto de treino\n",
        "model.fit(Xtr, ytr)\n",
        "\n",
        "# fazendo as predições no conjunto de teste\n",
        "y_pred = model.predict(Xts)\n",
        "\n",
        "# métricas de avaliação das predições\n",
        "show_metrics(yts, y_pred)"
      ],
      "metadata": {
        "colab": {
          "base_uri": "https://localhost:8080/",
          "height": 401
        },
        "id": "ky-BPW7AHMSg",
        "outputId": "1b4fa759-42c8-4e61-92f8-63fc5d8b7889"
      },
      "execution_count": 50,
      "outputs": [
        {
          "output_type": "stream",
          "name": "stdout",
          "text": [
            "-----Métricas-----\n",
            "Acurácia: 0.87\n",
            "Precisão: 0.00\n",
            "Recall: 0.00\n",
            "F-score: 0.00\n",
            "------------------\n",
            "Matriz de confusão:\n"
          ]
        },
        {
          "output_type": "display_data",
          "data": {
            "image/png": "[encoded data removed]",
            "text/plain": [
              "<Figure size 432x288 with 2 Axes>"
            ]
          },
          "metadata": {
            "needs_background": "light"
          }
        }
      ]
    },
    {
      "cell_type": "markdown",
      "source": [
        "## SVM"
      ],
      "metadata": {
        "id": "gwSpVemTU16n"
      }
    },
    {
      "cell_type": "code",
      "source": [
        "from sklearn import svm\n",
        "\n",
        "# criando o modelo\n",
        "model = svm.SVC(kernel='linear')\n",
        "\n",
        "# treinando o modelo com o conjunto de treino\n",
        "model.fit(Xtr, ytr)\n",
        "\n",
        "# fazendo as predições no conjunto de teste\n",
        "y_pred = model.predict(Xts)\n",
        "\n",
        "# métricas de avaliação das predições\n",
        "show_metrics(yts, y_pred)"
      ],
      "metadata": {
        "colab": {
          "base_uri": "https://localhost:8080/",
          "height": 401
        },
        "id": "cJ3eBJV9U841",
        "outputId": "1937fb5e-bdd3-483d-8565-47f82cd3ce60"
      },
      "execution_count": 51,
      "outputs": [
        {
          "output_type": "stream",
          "name": "stdout",
          "text": [
            "-----Métricas-----\n",
            "Acurácia: 0.88\n",
            "Precisão: 0.95\n",
            "Recall: 0.12\n",
            "F-score: 0.21\n",
            "------------------\n",
            "Matriz de confusão:\n"
          ]
        },
        {
          "output_type": "display_data",
          "data": {
            "image/png": "[encoded data removed]",
            "text/plain": [
              "<Figure size 432x288 with 2 Axes>"
            ]
          },
          "metadata": {
            "needs_background": "light"
          }
        }
      ]
    },
    {
      "cell_type": "markdown",
      "source": [
        "## Regressão logística com sub-amostragem da classe dominante"
      ],
      "metadata": {
        "id": "forJNM_DXPdZ"
      }
    },
    {
      "cell_type": "code",
      "source": [
        "# exibindo a distribuição de classes\n",
        "print(\"Antes: \", Counter(ytr))\n",
        "\n",
        "# definindo a estratégia de sub-amostragem\n",
        "undersample = RandomUnderSampler(sampling_strategy=1)\n",
        "\n",
        "# aplicando a transformação de reamostragem\n",
        "Xtr, ytr = undersample.fit_resample(Xtr, ytr)\n",
        "\n",
        "# exibindo a distribuição de classes\n",
        "print(\"Depois: \", Counter(ytr))"
      ],
      "metadata": {
        "colab": {
          "base_uri": "https://localhost:8080/"
        },
        "id": "1cLO_RJpQbdn",
        "outputId": "f5131904-a178-46a1-a174-e858b87dc2ee"
      },
      "execution_count": 52,
      "outputs": [
        {
          "output_type": "stream",
          "name": "stdout",
          "text": [
            "Antes:  Counter({0: 3859, 1: 598})\n",
            "Depois:  Counter({0: 598, 1: 598})\n"
          ]
        }
      ]
    },
    {
      "cell_type": "code",
      "source": [
        "# Modelo de Classificação\n",
        "\n",
        "# criando o modelo\n",
        "model = LogisticRegression()\n",
        "\n",
        "# treinando o modelo com o conjunto de treino\n",
        "model.fit(Xtr, ytr)\n",
        "\n",
        "# fazendo as predições no conjunto de teste\n",
        "y_pred = model.predict(Xts)\n",
        "\n",
        "# métricas de avaliação das predições\n",
        "show_metrics(yts, y_pred)"
      ],
      "metadata": {
        "colab": {
          "base_uri": "https://localhost:8080/",
          "height": 401
        },
        "id": "kETLiAJEQquS",
        "outputId": "8ac135d0-8503-426f-d124-f2b01fe8af65"
      },
      "execution_count": 53,
      "outputs": [
        {
          "output_type": "stream",
          "name": "stdout",
          "text": [
            "-----Métricas-----\n",
            "Acurácia: 0.87\n",
            "Precisão: 0.51\n",
            "Recall: 0.92\n",
            "F-score: 0.65\n",
            "------------------\n",
            "Matriz de confusão:\n"
          ]
        },
        {
          "output_type": "display_data",
          "data": {
            "image/png": "[encoded data removed]",
            "text/plain": [
              "<Figure size 432x288 with 2 Axes>"
            ]
          },
          "metadata": {
            "needs_background": "light"
          }
        }
      ]
    },
    {
      "cell_type": "markdown",
      "source": [
        "## SVM com sub-amostragem da classe dominante"
      ],
      "metadata": {
        "id": "hBtsXqngJnnL"
      }
    },
    {
      "cell_type": "code",
      "source": [
        "from sklearn import svm\n",
        "\n",
        "# criando o modelo\n",
        "model = svm.SVC(kernel='linear')\n",
        "\n",
        "# treinando o modelo com o conjunto de treino\n",
        "model.fit(Xtr, ytr)\n",
        "\n",
        "# fazendo as predições no conjunto de teste\n",
        "y_pred = model.predict(Xts)\n",
        "\n",
        "# métricas de avaliação das predições\n",
        "show_metrics(yts, y_pred)"
      ],
      "metadata": {
        "colab": {
          "base_uri": "https://localhost:8080/",
          "height": 401
        },
        "id": "T7bI2ExRJqq1",
        "outputId": "abb67afb-a7f9-4000-b3e1-6b50c0005f40"
      },
      "execution_count": 54,
      "outputs": [
        {
          "output_type": "stream",
          "name": "stdout",
          "text": [
            "-----Métricas-----\n",
            "Acurácia: 0.86\n",
            "Precisão: 0.48\n",
            "Recall: 0.93\n",
            "F-score: 0.64\n",
            "------------------\n",
            "Matriz de confusão:\n"
          ]
        },
        {
          "output_type": "display_data",
          "data": {
            "image/png": "[encoded data removed]",
            "text/plain": [
              "<Figure size 432x288 with 2 Axes>"
            ]
          },
          "metadata": {
            "needs_background": "light"
          }
        }
      ]
    },
    {
      "cell_type": "markdown",
      "source": [
        "# Regressão logistica com sub_amostragem e Removendo stop words, numeros, pontuação.."
      ],
      "metadata": {
        "id": "GZqZ5G-xPRVm"
      }
    },
    {
      "cell_type": "code",
      "source": [
        "import nltk\n",
        "nltk.download('stopwords')"
      ],
      "metadata": {
        "colab": {
          "base_uri": "https://localhost:8080/"
        },
        "id": "bxbcidVJPyp6",
        "outputId": "3cc80da0-b9d1-411d-8b66-432766ffa45a"
      },
      "execution_count": 55,
      "outputs": [
        {
          "output_type": "stream",
          "name": "stdout",
          "text": [
            "[nltk_data] Downloading package stopwords to /root/nltk_data...\n",
            "[nltk_data]   Package stopwords is already up-to-date!\n"
          ]
        },
        {
          "output_type": "execute_result",
          "data": {
            "text/plain": [
              "True"
            ]
          },
          "metadata": {},
          "execution_count": 55
        }
      ]
    },
    {
      "cell_type": "code",
      "source": [
        "import re\n",
        "\n",
        "def clean_text(text):\n",
        "    \"\"\"\n",
        "    Realiza algumas operações de limpeza em uma string\n",
        "    remove numeros\n",
        "    remove pontuações\n",
        "    substitui maisculas por minusculas\n",
        "    remove espaços em branco repetidos\n",
        "    \"\"\"\n",
        "    # remove numbers\n",
        "    text_nonum = re.sub(r'\\d+', '', text)\n",
        "    # remove punctuations and convert characters to lower case\n",
        "    text_nopunct = \"\".join([char.lower() for char in text_nonum if char not in string.punctuation])\n",
        "    # substitute multiple whitespace with single whitespace\n",
        "    # Also, removes leading and trailing whitespaces\n",
        "    text_no_doublespace = re.sub('\\s+', ' ', text_nopunct).strip()\n",
        "    return text_no_doublespace"
      ],
      "metadata": {
        "id": "lD51uUckWus7"
      },
      "execution_count": 56,
      "outputs": []
    },
    {
      "cell_type": "code",
      "source": [
        "from nltk.corpus import stopwords\n",
        "stop_words = set(stopwords.words('english'))\n",
        "stop_words.add('')"
      ],
      "metadata": {
        "id": "KG5ePmmAPTUU"
      },
      "execution_count": 57,
      "outputs": []
    },
    {
      "cell_type": "code",
      "source": [
        "all_tokens = []\n",
        "for message in messages:\n",
        "    # tokenize retorna uma lista de tokens\n",
        "    clean_message = clean_text(message)\n",
        "    tokens = tokenize(clean_message)\n",
        "    filtered_tokens = [w for w in tokens if not w in stop_words]\n",
        "\n",
        "    # OBS: tokens é uma lista\n",
        "    all_tokens.extend(filtered_tokens)\n",
        "\n",
        "tokens_occurrences = map_occurrences(all_tokens)\n",
        "sorted_tokens_occurrences = {k: v for k, v in sorted(tokens_occurrences.items(), key=lambda item: item[1], reverse=True)}"
      ],
      "metadata": {
        "id": "Hhtnb4dISaO_"
      },
      "execution_count": 58,
      "outputs": []
    },
    {
      "cell_type": "code",
      "source": [
        "fig_dims = (15, 5)\n",
        "fig, ax = plt.subplots(figsize=fig_dims)\n",
        "sns.barplot(x=list(sorted_tokens_occurrences.keys())[:20], y=list(sorted_tokens_occurrences.values())[:20], ax=ax, data=df);"
      ],
      "metadata": {
        "colab": {
          "base_uri": "https://localhost:8080/",
          "height": 324
        },
        "id": "ApMJ6N6LSddw",
        "outputId": "8a660513-8d2f-4d72-dbf7-7095152aab0d"
      },
      "execution_count": 59,
      "outputs": [
        {
          "output_type": "display_data",
          "data": {
            "image/png": "[encoded data removed]",
            "text/plain": [
              "<Figure size 1080x360 with 1 Axes>"
            ]
          },
          "metadata": {
            "needs_background": "light"
          }
        }
      ]
    },
    {
      "cell_type": "code",
      "source": [
        "unique_tokens, counts = np.unique(all_tokens, return_counts=True)\n",
        "\n",
        "unique_tokens = unique_tokens[counts.argsort()[::-1]]\n",
        "counts = counts[counts.argsort()[::-1]]\n",
        "\n",
        "vocab = {\n",
        "    w: i for i, w in enumerate(unique_tokens)\n",
        "}\n",
        "\n",
        "X = []\n",
        "for message in messages:\n",
        "    clean_message = clean_text(message)\n",
        "    tokens = tokenize(clean_message)\n",
        "    filtered_tokens = [w for w in tokens if not w in stop_words]\n",
        "    x = vectorize(filtered_tokens, vocab)\n",
        "    X.append(x)\n",
        "X = np.array(X)"
      ],
      "metadata": {
        "id": "5wChR4E2UIVV"
      },
      "execution_count": 60,
      "outputs": []
    },
    {
      "cell_type": "code",
      "source": [
        "Xtr, Xts, ytr, yts = train_test_split(X, y, test_size=0.2, stratify=y)\n",
        "\n",
        "# definindo a estratégia de sub-amostragem\n",
        "undersample = RandomUnderSampler(sampling_strategy=1)\n",
        "\n",
        "# aplicando a transformação de reamostragem\n",
        "Xtr, ytr = undersample.fit_resample(Xtr, ytr)\n",
        "\n",
        "# Modelo de Classificação\n",
        "\n",
        "# criando o modelo\n",
        "model = LogisticRegression()\n",
        "\n",
        "# treinando o modelo com o conjunto de treino\n",
        "model.fit(Xtr, ytr)\n",
        "\n",
        "# fazendo as predições no conjunto de teste\n",
        "y_pred = model.predict(Xts)\n",
        "\n",
        "# métricas de avaliação das predições\n",
        "show_metrics(yts, y_pred)"
      ],
      "metadata": {
        "colab": {
          "base_uri": "https://localhost:8080/",
          "height": 401
        },
        "id": "d_4_wjvZUnCA",
        "outputId": "495042ba-8e4b-45af-d13d-cb3404b9336e"
      },
      "execution_count": 61,
      "outputs": [
        {
          "output_type": "stream",
          "name": "stdout",
          "text": [
            "-----Métricas-----\n",
            "Acurácia: 0.94\n",
            "Precisão: 0.75\n",
            "Recall: 0.87\n",
            "F-score: 0.80\n",
            "------------------\n",
            "Matriz de confusão:\n"
          ]
        },
        {
          "output_type": "display_data",
          "data": {
            "image/png": "[encoded data removed]",
            "text/plain": [
              "<Figure size 432x288 with 2 Axes>"
            ]
          },
          "metadata": {
            "needs_background": "light"
          }
        }
      ]
    },
    {
      "cell_type": "code",
      "source": [
        "weights = model.coef_[0]\n",
        "\n",
        "max_ind = weights.argsort()[-10:][::-1]\n",
        "min_ind = weights.argsort()[:10][::-1]\n",
        "\n",
        "vocab_by_id = dict((v, k) for k, v in vocab.items())\n",
        "\n",
        "for i in max_ind:\n",
        "  print(f'token: {vocab_by_id[i]}\\tweight: {weights[i]:.2f}')\n",
        "print('...')\n",
        "for i in min_ind:\n",
        "  print(f'token: {vocab_by_id[i]}\\tweight: {weights[i]:.2f}')"
      ],
      "metadata": {
        "colab": {
          "base_uri": "https://localhost:8080/"
        },
        "id": "b0chjbE4YjpR",
        "outputId": "044966e0-e0cc-4c67-eff4-ebf7020d7a42"
      },
      "execution_count": 62,
      "outputs": [
        {
          "output_type": "stream",
          "name": "stdout",
          "text": [
            "token: å£\tweight: 4.41\n",
            "token: call\tweight: 3.76\n",
            "token: free\tweight: 3.29\n",
            "token: txt\tweight: 2.70\n",
            "token: mobile\tweight: 2.21\n",
            "token: text\tweight: 2.13\n",
            "token: stop\tweight: 2.01\n",
            "token: claim\tweight: 2.01\n",
            "token: reply\tweight: 1.59\n",
            "token: prize\tweight: 1.52\n",
            "...\n",
            "token: later\tweight: -1.07\n",
            "token: home\tweight: -1.08\n",
            "token: u\tweight: -1.17\n",
            "token: come\tweight: -1.20\n",
            "token: sorry\tweight: -1.38\n",
            "token: good\tweight: -1.43\n",
            "token: ok\tweight: -1.71\n",
            "token: ill\tweight: -1.81\n",
            "token: ltgt\tweight: -1.84\n",
            "token: im\tweight: -1.92\n"
          ]
        }
      ]
    }
  ]
}